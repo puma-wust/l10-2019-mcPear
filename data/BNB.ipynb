{
 "cells": [
  {
   "cell_type": "code",
   "execution_count": 1,
   "metadata": {},
   "outputs": [],
   "source": [
    "import torch\n",
    "import torch.nn as nn\n",
    "import torch.nn.functional as F\n",
    "import torch.optim as optim\n",
    "import torchvision\n",
    "from torch.distributions import constraints\n",
    "from torchvision import datasets, transforms\n",
    "from torch.utils.data import DataLoader\n",
    "import numpy as np\n",
    "import matplotlib.pyplot as plt\n",
    "from matplotlib import colors\n",
    "from IPython import display\n",
    "import os\n",
    "from PIL import Image\n",
    "from torch.utils.data.dataset import Dataset\n",
    "from scipy.misc import imread\n",
    "\n",
    "from tqdm import tqdm\n",
    "import csv\n",
    "import random\n",
    "import math\n",
    "import pyro\n",
    "from pyro.distributions import Normal, Categorical\n",
    "from pyro.infer import SVI, Trace_ELBO\n",
    "from pyro.optim import Adam\n",
    "import numbers\n",
    "\n",
    "pyro.enable_validation(True)"
   ]
  },
  {
   "cell_type": "code",
   "execution_count": 2,
   "metadata": {},
   "outputs": [],
   "source": [
    "def is_number(s):\n",
    "    try:\n",
    "        float(s)\n",
    "        return True\n",
    "    except ValueError:\n",
    "        return False\n",
    "\n",
    "def loadCsv(filename):\n",
    "    lines = csv.reader(open(filename, \"r\"))\n",
    "    dataset = list(lines)\n",
    "    for i in range(len(dataset)):\n",
    "        dataset[i] = [float(x) if is_number(x) else x for x in dataset[i]]\n",
    "    return dataset\n",
    "\n",
    "filename = 'iris.csv'\n",
    "dataset = loadCsv(filename)"
   ]
  },
  {
   "cell_type": "code",
   "execution_count": 3,
   "metadata": {},
   "outputs": [
    {
     "name": "stdout",
     "output_type": "stream",
     "text": [
      "Split 150 rows into train=100 and test=50 rows\n",
      "<zip object at 0x7fc890368748>\n",
      "<zip object at 0x7fc890368748>\n",
      "<zip object at 0x7fc890368748>\n",
      "Accuracy: 90.0%\n"
     ]
    }
   ],
   "source": [
    "def splitDataset(dataset, splitRatio):\n",
    "    trainSize = int(len(dataset) * splitRatio)\n",
    "    trainSet = []\n",
    "    copy = list(dataset)\n",
    "    while len(trainSet) < trainSize:\n",
    "        index = random.randrange(len(copy))\n",
    "        trainSet.append(copy.pop(index))\n",
    "    return [trainSet, copy]\n",
    " \n",
    "def separateByClass(dataset):\n",
    "    separated = {}\n",
    "    for i in range(len(dataset)):\n",
    "        vector = dataset[i]\n",
    "        if (vector[-1] not in separated):\n",
    "            separated[vector[-1]] = []\n",
    "        separated[vector[-1]].append(vector)\n",
    "    return separated\n",
    " \n",
    "def mean(numbers):\n",
    "    return sum(numbers)/float(len(numbers))\n",
    " \n",
    "def stdev(numbers):\n",
    "    avg = mean(numbers)\n",
    "    variance = sum([pow(x-avg,2) for x in numbers])/float(len(numbers)-1)\n",
    "    return math.sqrt(variance)\n",
    " \n",
    "def summarize(dataset):\n",
    "    summaries = [(mean(attribute), stdev(attribute)) if isinstance(attribute[0], numbers.Number) else None \n",
    "                 for attribute in zip(*dataset)]\n",
    "    print(zip(*dataset))\n",
    "    del summaries[-1]\n",
    "    return summaries\n",
    " \n",
    "def summarizeByClass(dataset):\n",
    "    separated = separateByClass(dataset)\n",
    "    summaries = {}\n",
    "    for classValue, instances in separated.items():\n",
    "        summaries[classValue] = summarize(instances)\n",
    "    return summaries\n",
    " \n",
    "def calculateProbability(x, mean, stdev):\n",
    "    exponent = math.exp(-(math.pow(x-mean,2)/(2*math.pow(stdev,2))))\n",
    "    gauss = (1 / (math.sqrt(2*math.pi) * stdev)) * exponent\n",
    "    #print(f\"x:{x}, mean:{mean}, stdev:{stdev}, gauss:{gauss}\")\n",
    "    return gauss\n",
    " \n",
    "def calculateClassProbabilities(summaries, inputVector):\n",
    "    probabilities = {}\n",
    "    for classValue, classSummaries in summaries.items():\n",
    "        probabilities[classValue] = 1\n",
    "        for i in range(len(classSummaries)):\n",
    "            mean, stdev = classSummaries[i]\n",
    "            x = inputVector[i]\n",
    "            probabilities[classValue] *= calculateProbability(x, mean, stdev)\n",
    "    return probabilities\n",
    "\n",
    "def predict(summaries, inputVector):\n",
    "    probabilities = calculateClassProbabilities(summaries, inputVector)\n",
    "    bestLabel, bestProb = None, -1\n",
    "    for classValue, probability in probabilities.items():\n",
    "        if bestLabel is None or probability > bestProb:\n",
    "            bestProb = probability\n",
    "            bestLabel = classValue\n",
    "    return bestLabel\n",
    " \n",
    "def getPredictions(summaries, testSet):\n",
    "    predictions = []\n",
    "    for i in range(len(testSet)):\n",
    "        result = predict(summaries, testSet[i])\n",
    "        predictions.append(result)\n",
    "    return predictions\n",
    " \n",
    "def getAccuracy(testSet, predictions):\n",
    "    correct = 0\n",
    "    for i in range(len(testSet)):\n",
    "        if testSet[i][-1] == predictions[i]:\n",
    "            correct += 1\n",
    "    return (correct/float(len(testSet))) * 100.0\n",
    " \n",
    "def main():\n",
    "    splitRatio = 0.67\n",
    "    trainingSet, testSet = splitDataset(dataset, splitRatio)\n",
    "    print('Split {0} rows into train={1} and test={2} rows'.format(len(dataset), len(trainingSet), len(testSet)))\n",
    "    # prepare model\n",
    "    summaries = summarizeByClass(trainingSet)\n",
    "    # test model\n",
    "    predictions = getPredictions(summaries, testSet)\n",
    "    accuracy = getAccuracy(testSet, predictions)\n",
    "    print('Accuracy: {0}%'.format(accuracy))\n",
    " \n",
    "main()\n",
    "# mean iris accuracy .95"
   ]
  },
  {
   "cell_type": "code",
   "execution_count": 4,
   "metadata": {},
   "outputs": [],
   "source": [
    "classes = [0,1,2]\n",
    "attributes_count = 4\n",
    "\n",
    "means = [5.4, 3.1, 4.8, 1.4]\n",
    "stds = [2, 1, 1.75, 0.75]\n",
    "\n",
    "# summaries=dict()\n",
    "# for clazz in classes:\n",
    "#     attr_summaries = []\n",
    "#     for attr_idx in range(attributes_count):\n",
    "#         attr_summaries.append(None)\n",
    "#     summaries[clazz] = attr_summaries\n",
    "\n",
    "# print(summaries)\n",
    "    \n",
    "def norm_probs(summaries, inputVector):\n",
    "    #print(summaries)\n",
    "    probabilities = calculateClassProbabilities(summaries, inputVector)\n",
    "    #tu są nan i inf\n",
    "    #print(probabilities)\n",
    "    probs = torch.tensor([probabilities[0], probabilities[1], probabilities[2]])\n",
    "    #print(probs)\n",
    "    norm_probs = probs/torch.sum(probs)\n",
    "    #print(norm_probs)\n",
    "    return norm_probs\n",
    "\n",
    "def model(x_data, y_data):\n",
    "    #print(\"model\")\n",
    "    summaries=dict()\n",
    "    for clazz in classes:\n",
    "        attr_summaries = []\n",
    "        for attr_idx in range(attributes_count):\n",
    "            mean = pyro.sample(f\"mean-{clazz}-{attr_idx}\", pyro.distributions.Normal(3., 1.))\n",
    "            std = abs(pyro.sample(f\"std-{clazz}-{attr_idx}\", pyro.distributions.Normal(1.5, 1.)))\n",
    "            attr_summaries.append((mean,std))\n",
    "        summaries[clazz] = attr_summaries\n",
    "    \n",
    "    lhat = torch.stack([norm_probs(summaries, x) for x in x_data])\n",
    "    lhat[lhat != lhat] = 0.333 #fixme\n",
    "    #print(lhat)\n",
    "    with pyro.plate(\"generator\", len(y_data)) as _:\n",
    "        pyro.sample(\"obs\", Categorical(logits=lhat), obs=y_data)\n",
    "    \n",
    "def guide(x_data, y_data):\n",
    "    #print(\"guide\")\n",
    "    summaries=dict()\n",
    "    for clazz in classes:\n",
    "        attr_summaries = []\n",
    "        for attr_idx in range(attributes_count):\n",
    "            mean_mean_param = pyro.param(f\"mean-{clazz}-{attr_idx}-mean\", torch.tensor(10.))\n",
    "            mean_std_param = pyro.param(f\"mean-{clazz}-{attr_idx}-std\", torch.tensor(5.), constraint=constraints.positive)\n",
    "            mean = pyro.sample(f\"mean-{clazz}-{attr_idx}\", pyro.distributions.Normal(mean_mean_param, mean_std_param))\n",
    "            \n",
    "            std_mean_param = pyro.param(f\"std-{clazz}-{attr_idx}-mean\", torch.tensor(0.))\n",
    "            std_std_param = pyro.param(f\"std-{clazz}-{attr_idx}-std\", torch.tensor(1.), constraint=constraints.positive)\n",
    "            std = pyro.sample(f\"std-{clazz}-{attr_idx}\", pyro.distributions.Normal(std_mean_param, std_std_param))\n",
    "            attr_summaries.append((mean,std))\n",
    "            \n",
    "        summaries[clazz] = attr_summaries\n",
    "    #print(\"once\")\n",
    "    return summaries"
   ]
  },
  {
   "cell_type": "code",
   "execution_count": 5,
   "metadata": {},
   "outputs": [],
   "source": [
    "def horizontal_split(data):\n",
    "    if not data:\n",
    "        return [[], []]\n",
    "    size = len(data[0])\n",
    "    attrs = [record[:size - 1] for record in data]\n",
    "    classes_nested = [record[size - 1:] for record in data]\n",
    "    classes = [item for sublist in classes_nested for item in sublist]\n",
    "    return [attrs, classes]\n",
    "\n",
    "x_data, y_data = horizontal_split(dataset)"
   ]
  },
  {
   "cell_type": "code",
   "execution_count": 6,
   "metadata": {},
   "outputs": [],
   "source": [
    "optim = Adam({\"lr\": 0.1})\n",
    "svi = SVI(model, guide, optim, loss=Trace_ELBO())"
   ]
  },
  {
   "cell_type": "code",
   "execution_count": 8,
   "metadata": {
    "scrolled": true
   },
   "outputs": [
    {
     "name": "stdout",
     "output_type": "stream",
     "text": [
      "902.2705383300781\n",
      "175.98043704032898\n",
      "194.08253061771393\n",
      "182.32890039682388\n",
      "188.83657544851303\n",
      "151.67060482501984\n",
      "148.5003422498703\n",
      "205.0609189271927\n",
      "160.21135371923447\n",
      "214.17120623588562\n"
     ]
    }
   ],
   "source": [
    "num_iterations = 1000\n",
    "loss = 0\n",
    "\n",
    "pyro.clear_param_store()\n",
    "\n",
    "losses = []\n",
    "for j in range(num_iterations):\n",
    "    loss = svi.step(torch.tensor(x_data), torch.tensor(y_data)) #y_data.squeeze(-1)\n",
    "    losses.append(loss)\n",
    "    if not j % 100:\n",
    "        print(loss)"
   ]
  },
  {
   "cell_type": "code",
   "execution_count": 9,
   "metadata": {},
   "outputs": [
    {
     "data": {
      "image/png": "[encoded data removed]",
      "text/plain": [
       "<Figure size 432x288 with 1 Axes>"
      ]
     },
     "metadata": {
      "needs_background": "light"
     },
     "output_type": "display_data"
    }
   ],
   "source": [
    "plt.plot(losses)\n",
    "plt.title(\"evidence lower bound (ELBO)\")\n",
    "plt.xlabel(\"step\")\n",
    "plt.ylabel(\"loss\");"
   ]
  },
  {
   "cell_type": "code",
   "execution_count": 13,
   "metadata": {},
   "outputs": [
    {
     "name": "stdout",
     "output_type": "stream",
     "text": [
      "Accuracy: 86.0%\n"
     ]
    }
   ],
   "source": [
    "sampled_models = [guide(None, None) for _ in range(1000)]\n",
    "best_model = sampled_models[0]\n",
    "best_accuracy = 0\n",
    "for model in sampled_models:\n",
    "    predictions = getPredictions(model, testSet)\n",
    "    accuracy = getAccuracy(testSet, predictions)\n",
    "    \n",
    "    if accuracy >= best_accuracy:\n",
    "        best_model = model\n",
    "        best_accuracy = accuracy\n",
    "print('Accuracy: {0}%'.format(best_accuracy))"
   ]
  },
  {
   "cell_type": "code",
   "execution_count": 14,
   "metadata": {},
   "outputs": [
    {
     "name": "stdout",
     "output_type": "stream",
     "text": [
      "Accuracy: 86.0%\n"
     ]
    }
   ],
   "source": [
    "splitRatio = 0.67\n",
    "trainingSet, testSet = splitDataset(dataset, splitRatio)\n",
    "print('Split {0} rows into train={1} and test={2} rows'.format(len(dataset), len(trainingSet), len(testSet)))\n",
    "predictions = getPredictions(best_model, testSet)\n",
    "accuracy = getAccuracy(testSet, predictions)\n",
    "print('Accuracy: {0}%'.format(accuracy))"
   ]
  },
  {
   "cell_type": "code",
   "execution_count": null,
   "metadata": {},
   "outputs": [],
   "source": []
  }
 ],
 "metadata": {
  "kernelspec": {
   "display_name": "Python 3",
   "language": "python",
   "name": "python3"
  },
  "language_info": {
   "codemirror_mode": {
    "name": "ipython",
    "version": 3
   },
   "file_extension": ".py",
   "mimetype": "text/x-python",
   "name": "python",
   "nbconvert_exporter": "python",
   "pygments_lexer": "ipython3",
   "version": "3.6.8"
  }
 },
 "nbformat": 4,
 "nbformat_minor": 2
}
